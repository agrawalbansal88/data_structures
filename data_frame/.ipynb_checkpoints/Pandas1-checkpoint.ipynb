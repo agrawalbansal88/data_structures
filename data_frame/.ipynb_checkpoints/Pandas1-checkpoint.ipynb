{
 "cells": [
  {
   "cell_type": "code",
   "execution_count": 2,
   "metadata": {},
   "outputs": [],
   "source": [
    "import pandas as pd "
   ]
  },
  {
   "cell_type": "code",
   "execution_count": null,
   "metadata": {},
   "outputs": [],
   "source": [
    "\"\"\"\n",
    "data = pd.read_csv(\n",
    "    \"data/files/complex_data_example.tsv\",      # relative python path to subdirectory\n",
    "    sep='\\t'           # Tab-separated value file.\n",
    "    quotechar=\"'\",        # single quote allowed as quote character\n",
    "    dtype={\"salary\": int},             # Parse the salary column as an integer \n",
    "    usecols=['name', 'birth_date', 'salary'].   # Only load the three columns specified.\n",
    "    parse_dates=['birth_date'],     # Intepret the birth_date column as a date\n",
    "    skiprows=10,         # Skip the first 10 rows of the file\n",
    "    na_values=['.', '??']       # Take any '.' or '??' values as NA\n",
    ")\n",
    "\"\"\""
   ]
  },
  {
   "cell_type": "code",
   "execution_count": 12,
   "metadata": {},
   "outputs": [],
   "source": [
    "data = pd.read_csv(\"/Users/ankuragr/Desktop/SON/supported_parameters_ericsson.csv\", \n",
    "                   usecols=['Version', 'Level', 'Data Type', 'MO.Attribute']) "
   ]
  },
  {
   "cell_type": "code",
   "execution_count": 20,
   "metadata": {},
   "outputs": [
    {
     "name": "stdout",
     "output_type": "stream",
     "text": [
      "   Version                                       MO.Attribute Level Data Type\n",
      "0  default   CarrierAggregationFunction.caPreemptionThreshold    NC      long\n",
      "1  default       CarrierAggregationFunction.caRateAdjustCoeff    NC      long\n",
      "2  default    CarrierAggregationFunction.waitForCaOpportunity    NC      long\n",
      "3  default   CarrierAggregationFunction.waitForBetterSCellRep    NC      long\n",
      "4  default  CarrierAggregationFunction.waitForAdditionalSC...    NC      long\n",
      "    Version                               MO.Attribute Level    Data Type\n",
      "24  default        ReportConfigSCellA6.timeToTriggerA6  CELL     int_enum\n",
      "25  default      ReportConfigSCellA6.triggerQuantityA6  CELL  string_enum\n",
      "26  default    ReportConfigSCellA1A2.a1a2ThresholdRsrq  CELL         long\n",
      "27  default   ReportConfigSCellA1A2.hysteresisA1A2Rsrq  CELL         long\n",
      "28  default  ReportConfigSCellA1A2.triggerQuantityA1A2  CELL  string_enum\n",
      "    Version                                       MO.Attribute Level Data Type\n",
      "15  default  CarrierAggregationFunction.sCellDeactProhibitT...    NC      long\n",
      "11  default  CarrierAggregationFunction.fourLayerMimoPreferred    NC      bool\n",
      "5   default            CarrierAggregationFunction.caUsageLimit    NC      long\n",
      "0   default   CarrierAggregationFunction.caPreemptionThreshold    NC      long\n",
      "6   default  CarrierAggregationFunction.sCellActDeactDataThres    NC      long\n"
     ]
    }
   ],
   "source": [
    "print data.head()\n",
    "print data.tail()\n",
    "print data.sample(5)"
   ]
  },
  {
   "cell_type": "code",
   "execution_count": 22,
   "metadata": {},
   "outputs": [
    {
     "name": "stdout",
     "output_type": "stream",
     "text": [
      "0            long\n",
      "1            long\n",
      "2            long\n",
      "3            long\n",
      "4            long\n",
      "5            long\n",
      "6            long\n",
      "7            long\n",
      "8            long\n",
      "9     string_enum\n",
      "10           long\n",
      "11           bool\n",
      "12           long\n",
      "13           long\n",
      "14           long\n",
      "15           long\n",
      "16    string_enum\n",
      "17           bool\n",
      "18           long\n",
      "19           long\n",
      "20       int_enum\n",
      "21       int_enum\n",
      "22           long\n",
      "23           long\n",
      "24       int_enum\n",
      "25    string_enum\n",
      "26           long\n",
      "27           long\n",
      "28    string_enum\n",
      "Name: Data Type, dtype: object\n",
      "0     default\n",
      "1     default\n",
      "2     default\n",
      "3     default\n",
      "4     default\n",
      "5     default\n",
      "6     default\n",
      "7     default\n",
      "8     default\n",
      "9     default\n",
      "10    default\n",
      "11    default\n",
      "12    default\n",
      "13    default\n",
      "14    default\n",
      "15    default\n",
      "16    default\n",
      "17    default\n",
      "18    default\n",
      "19    default\n",
      "20    default\n",
      "21    default\n",
      "22    default\n",
      "23    default\n",
      "24    default\n",
      "25    default\n",
      "26    default\n",
      "27    default\n",
      "28    default\n",
      "Name: Version, dtype: object\n"
     ]
    }
   ],
   "source": [
    "print data['Data Type']\n",
    "print data.Version"
   ]
  },
  {
   "cell_type": "code",
   "execution_count": 18,
   "metadata": {},
   "outputs": [
    {
     "data": {
      "text/plain": [
       "{'bool', 'int_enum', 'long', 'string_enum'}"
      ]
     },
     "execution_count": 18,
     "metadata": {},
     "output_type": "execute_result"
    }
   ],
   "source": [
    "set(data['Data Type'])"
   ]
  },
  {
   "cell_type": "code",
   "execution_count": 23,
   "metadata": {},
   "outputs": [
    {
     "data": {
      "text/html": [
       "<div>\n",
       "<style scoped>\n",
       "    .dataframe tbody tr th:only-of-type {\n",
       "        vertical-align: middle;\n",
       "    }\n",
       "\n",
       "    .dataframe tbody tr th {\n",
       "        vertical-align: top;\n",
       "    }\n",
       "\n",
       "    .dataframe thead th {\n",
       "        text-align: right;\n",
       "    }\n",
       "</style>\n",
       "<table border=\"1\" class=\"dataframe\">\n",
       "  <thead>\n",
       "    <tr style=\"text-align: right;\">\n",
       "      <th></th>\n",
       "      <th>Version</th>\n",
       "      <th>MO.Attribute</th>\n",
       "      <th>Level</th>\n",
       "      <th>Data Type</th>\n",
       "    </tr>\n",
       "  </thead>\n",
       "  <tbody>\n",
       "    <tr>\n",
       "      <th>9</th>\n",
       "      <td>default</td>\n",
       "      <td>CarrierAggregationFunction.dynamicSCellSelecti...</td>\n",
       "      <td>NC</td>\n",
       "      <td>string_enum</td>\n",
       "    </tr>\n",
       "    <tr>\n",
       "      <th>16</th>\n",
       "      <td>default</td>\n",
       "      <td>CarrierAggregationFunction.sCellSelectionMode</td>\n",
       "      <td>NC</td>\n",
       "      <td>string_enum</td>\n",
       "    </tr>\n",
       "    <tr>\n",
       "      <th>25</th>\n",
       "      <td>default</td>\n",
       "      <td>ReportConfigSCellA6.triggerQuantityA6</td>\n",
       "      <td>CELL</td>\n",
       "      <td>string_enum</td>\n",
       "    </tr>\n",
       "    <tr>\n",
       "      <th>28</th>\n",
       "      <td>default</td>\n",
       "      <td>ReportConfigSCellA1A2.triggerQuantityA1A2</td>\n",
       "      <td>CELL</td>\n",
       "      <td>string_enum</td>\n",
       "    </tr>\n",
       "  </tbody>\n",
       "</table>\n",
       "</div>"
      ],
      "text/plain": [
       "    Version                                       MO.Attribute Level  \\\n",
       "9   default  CarrierAggregationFunction.dynamicSCellSelecti...    NC   \n",
       "16  default      CarrierAggregationFunction.sCellSelectionMode    NC   \n",
       "25  default              ReportConfigSCellA6.triggerQuantityA6  CELL   \n",
       "28  default          ReportConfigSCellA1A2.triggerQuantityA1A2  CELL   \n",
       "\n",
       "      Data Type  \n",
       "9   string_enum  \n",
       "16  string_enum  \n",
       "25  string_enum  \n",
       "28  string_enum  "
      ]
     },
     "execution_count": 23,
     "metadata": {},
     "output_type": "execute_result"
    }
   ],
   "source": [
    "data[data['Data Type']=='string_enum'] \n",
    "#data['Data Type']=='string_enum'"
   ]
  },
  {
   "cell_type": "code",
   "execution_count": 24,
   "metadata": {},
   "outputs": [
    {
     "data": {
      "text/plain": [
       "0     False\n",
       "1     False\n",
       "2     False\n",
       "3     False\n",
       "4     False\n",
       "5     False\n",
       "6     False\n",
       "7     False\n",
       "8     False\n",
       "9      True\n",
       "10    False\n",
       "11    False\n",
       "12    False\n",
       "13    False\n",
       "14    False\n",
       "15    False\n",
       "16     True\n",
       "17    False\n",
       "18    False\n",
       "19    False\n",
       "20    False\n",
       "21    False\n",
       "22    False\n",
       "23    False\n",
       "24    False\n",
       "25     True\n",
       "26    False\n",
       "27    False\n",
       "28     True\n",
       "Name: Data Type, dtype: bool"
      ]
     },
     "execution_count": 24,
     "metadata": {},
     "output_type": "execute_result"
    }
   ],
   "source": []
  },
  {
   "cell_type": "code",
   "execution_count": null,
   "metadata": {},
   "outputs": [],
   "source": []
  }
 ],
 "metadata": {
  "kernelspec": {
   "display_name": "Python 2",
   "language": "python",
   "name": "python2"
  },
  "language_info": {
   "codemirror_mode": {
    "name": "ipython",
    "version": 2
   },
   "file_extension": ".py",
   "mimetype": "text/x-python",
   "name": "python",
   "nbconvert_exporter": "python",
   "pygments_lexer": "ipython2",
   "version": "2.7.14"
  }
 },
 "nbformat": 4,
 "nbformat_minor": 2
}
