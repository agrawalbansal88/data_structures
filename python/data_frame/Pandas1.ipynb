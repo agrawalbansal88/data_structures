{
 "cells": [
  {
   "cell_type": "code",
   "execution_count": 2,
   "metadata": {},
   "outputs": [],
   "source": [
    "import pandas as pd "
   ]
  },
  {
   "cell_type": "code",
   "execution_count": null,
   "metadata": {},
   "outputs": [],
   "source": [
    "\"\"\"\n",
    "data = pd.read_csv(\n",
    "    \"data/files/complex_data_example.tsv\",      # relative python path to subdirectory\n",
    "    sep='\\t'           # Tab-separated value file.\n",
    "    quotechar=\"'\",        # single quote allowed as quote character\n",
    "    dtype={\"salary\": int},             # Parse the salary column as an integer \n",
    "    usecols=['name', 'birth_date', 'salary'].   # Only load the three columns specified.\n",
    "    parse_dates=['birth_date'],     # Intepret the birth_date column as a date\n",
    "    skiprows=10,         # Skip the first 10 rows of the file\n",
    "    na_values=['.', '??']       # Take any '.' or '??' values as NA\n",
    ")\n",
    "\"\"\""
   ]
  },
  {
   "cell_type": "code",
   "execution_count": 12,
   "metadata": {},
   "outputs": [],
   "source": [
    "data = pd.read_csv(\"/Users/ankuragr/Desktop/SON/supported_parameters_ericsson.csv\", \n",
    "                   usecols=['Version', 'Level', 'Data Type', 'MO.Attribute']) "
   ]
  },
  {
   "cell_type": "code",
   "execution_count": 32,
   "metadata": {},
   "outputs": [
    {
     "name": "stdout",
     "output_type": "stream",
     "text": [
      "   Version                                       MO.Attribute Level Data Type\n",
      "0  default   CarrierAggregationFunction.caPreemptionThreshold    NC      long\n",
      "1  default       CarrierAggregationFunction.caRateAdjustCoeff    NC      long\n",
      "2  default    CarrierAggregationFunction.waitForCaOpportunity    NC      long\n",
      "3  default   CarrierAggregationFunction.waitForBetterSCellRep    NC      long\n",
      "4  default  CarrierAggregationFunction.waitForAdditionalSC...    NC      long\n",
      "    Version                               MO.Attribute Level    Data Type\n",
      "24  default        ReportConfigSCellA6.timeToTriggerA6  CELL     int_enum\n",
      "25  default      ReportConfigSCellA6.triggerQuantityA6  CELL  string_enum\n",
      "26  default    ReportConfigSCellA1A2.a1a2ThresholdRsrq  CELL         long\n",
      "27  default   ReportConfigSCellA1A2.hysteresisA1A2Rsrq  CELL         long\n",
      "28  default  ReportConfigSCellA1A2.triggerQuantityA1A2  CELL  string_enum\n",
      "    Version                                       MO.Attribute Level Data Type\n",
      "20  default              ReportConfigSCellA1A2.timeToTriggerA1  CELL  int_enum\n",
      "6   default  CarrierAggregationFunction.sCellActDeactDataThres    NC      long\n",
      "19  default           ReportConfigSCellA1A2.hysteresisA1A2Rsrp  CELL      long\n",
      "26  default            ReportConfigSCellA1A2.a1a2ThresholdRsrq  CELL      long\n",
      "15  default  CarrierAggregationFunction.sCellDeactProhibitT...    NC      long\n",
      "(29, 4)\n",
      "Index([u'Version', u'MO.Attribute', u'Level', u'Data Type'], dtype='object')\n",
      "Version\n"
     ]
    }
   ],
   "source": [
    "print data.head()\n",
    "print data.tail()\n",
    "print data.sample(5)\n",
    "print data.shape\n",
    "print data.columns\n",
    "print data.columns[0]"
   ]
  },
  {
   "cell_type": "code",
   "execution_count": 34,
   "metadata": {},
   "outputs": [
    {
     "name": "stdout",
     "output_type": "stream",
     "text": [
      "29\n"
     ]
    }
   ],
   "source": [
    "#print data['Data Type']\n",
    "#print data.Version\n",
    "print data['Data Type'].count()"
   ]
  },
  {
   "cell_type": "code",
   "execution_count": 18,
   "metadata": {},
   "outputs": [
    {
     "data": {
      "text/plain": [
       "{'bool', 'int_enum', 'long', 'string_enum'}"
      ]
     },
     "execution_count": 18,
     "metadata": {},
     "output_type": "execute_result"
    }
   ],
   "source": [
    "set(data['Data Type'])"
   ]
  },
  {
   "cell_type": "code",
   "execution_count": 23,
   "metadata": {},
   "outputs": [
    {
     "data": {
      "text/html": [
       "<div>\n",
       "<style scoped>\n",
       "    .dataframe tbody tr th:only-of-type {\n",
       "        vertical-align: middle;\n",
       "    }\n",
       "\n",
       "    .dataframe tbody tr th {\n",
       "        vertical-align: top;\n",
       "    }\n",
       "\n",
       "    .dataframe thead th {\n",
       "        text-align: right;\n",
       "    }\n",
       "</style>\n",
       "<table border=\"1\" class=\"dataframe\">\n",
       "  <thead>\n",
       "    <tr style=\"text-align: right;\">\n",
       "      <th></th>\n",
       "      <th>Version</th>\n",
       "      <th>MO.Attribute</th>\n",
       "      <th>Level</th>\n",
       "      <th>Data Type</th>\n",
       "    </tr>\n",
       "  </thead>\n",
       "  <tbody>\n",
       "    <tr>\n",
       "      <th>9</th>\n",
       "      <td>default</td>\n",
       "      <td>CarrierAggregationFunction.dynamicSCellSelecti...</td>\n",
       "      <td>NC</td>\n",
       "      <td>string_enum</td>\n",
       "    </tr>\n",
       "    <tr>\n",
       "      <th>16</th>\n",
       "      <td>default</td>\n",
       "      <td>CarrierAggregationFunction.sCellSelectionMode</td>\n",
       "      <td>NC</td>\n",
       "      <td>string_enum</td>\n",
       "    </tr>\n",
       "    <tr>\n",
       "      <th>25</th>\n",
       "      <td>default</td>\n",
       "      <td>ReportConfigSCellA6.triggerQuantityA6</td>\n",
       "      <td>CELL</td>\n",
       "      <td>string_enum</td>\n",
       "    </tr>\n",
       "    <tr>\n",
       "      <th>28</th>\n",
       "      <td>default</td>\n",
       "      <td>ReportConfigSCellA1A2.triggerQuantityA1A2</td>\n",
       "      <td>CELL</td>\n",
       "      <td>string_enum</td>\n",
       "    </tr>\n",
       "  </tbody>\n",
       "</table>\n",
       "</div>"
      ],
      "text/plain": [
       "    Version                                       MO.Attribute Level  \\\n",
       "9   default  CarrierAggregationFunction.dynamicSCellSelecti...    NC   \n",
       "16  default      CarrierAggregationFunction.sCellSelectionMode    NC   \n",
       "25  default              ReportConfigSCellA6.triggerQuantityA6  CELL   \n",
       "28  default          ReportConfigSCellA1A2.triggerQuantityA1A2  CELL   \n",
       "\n",
       "      Data Type  \n",
       "9   string_enum  \n",
       "16  string_enum  \n",
       "25  string_enum  \n",
       "28  string_enum  "
      ]
     },
     "execution_count": 23,
     "metadata": {},
     "output_type": "execute_result"
    }
   ],
   "source": [
    "data[data['Data Type']=='string_enum'] \n",
    "#data['Data Type']=='string_enum'"
   ]
  },
  {
   "cell_type": "code",
   "execution_count": 29,
   "metadata": {},
   "outputs": [
    {
     "name": "stdout",
     "output_type": "stream",
     "text": [
      "  Data Type Level\n",
      "0      long    NC\n",
      "1      long    NC\n",
      "2      long    NC\n",
      "3      long    NC\n",
      "4      long    NC\n",
      "  Data Type Level\n",
      "0      long    NC\n",
      "1      long    NC\n",
      "2      long    NC\n",
      "3      long    NC\n",
      "4      long    NC\n"
     ]
    }
   ],
   "source": [
    "print data[['Data Type', 'Level']].head()\n",
    "print data.head()[['Data Type', 'Level']]"
   ]
  },
  {
   "cell_type": "code",
   "execution_count": null,
   "metadata": {},
   "outputs": [],
   "source": []
  }
 ],
 "metadata": {
  "kernelspec": {
   "display_name": "Python 2",
   "language": "python",
   "name": "python2"
  },
  "language_info": {
   "codemirror_mode": {
    "name": "ipython",
    "version": 2
   },
   "file_extension": ".py",
   "mimetype": "text/x-python",
   "name": "python",
   "nbconvert_exporter": "python",
   "pygments_lexer": "ipython2",
   "version": "2.7.14"
  }
 },
 "nbformat": 4,
 "nbformat_minor": 2
}
